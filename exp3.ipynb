{
 "cells": [
  {
   "cell_type": "markdown",
   "metadata": {},
   "source": [
    "Experiment 3"
   ]
  },
  {
   "cell_type": "markdown",
   "metadata": {},
   "source": [
    "Aim: 1. To implement two sample z-test. 2. To implement statistical Hypothesis Corelation test. 3. To implement two sample non-parametric hypothesis test"
   ]
  },
  {
   "cell_type": "markdown",
   "metadata": {},
   "source": [
    "LO3: Design and implement various Statistical tests using python.\n"
   ]
  },
  {
   "cell_type": "code",
   "execution_count": 24,
   "metadata": {},
   "outputs": [
    {
     "name": "stdout",
     "output_type": "stream",
     "text": [
      "2.861284397728569e-110\n",
      "Null hyphothesis rejected , Alternative hyphothesis accepted\n"
     ]
    }
   ],
   "source": [
    "import pandas as pd\n",
    "from statsmodels.stats import weightstats as stests\n",
    "bp_before = [140, 154, 156, 167, 146, 160, 147, 156, 158, 160]\n",
    "bp_after = [156, 120, 130, 171, 145, 150, 128, 125, 159, 131]\n",
    "ztest ,propability_value = stests.ztest(bp_before, bp_after, value=146)\n",
    "print(propability_value)\n",
    "if propability_value<0.05:\n",
    "    print(\"Null hyphothesis rejected , Alternative hyphothesis accepted\")\n",
    "else:\n",
    "    print(\"Null hyphothesis accepted , Alternative hyphothesis rejected\")\n"
   ]
  },
  {
   "cell_type": "markdown",
   "metadata": {},
   "source": [
    "The Z test involves determining the P-value and then verifying how close the determined P-value is to the significant value. Usually, the significance value is around 0.05. The P value stands for the representation of the probability value identified. The probability value mentions how possible the determined assumption is a null hypothesis or an alternative hypothesis. So based on the P value determined, the reality of the hypothesis assumption is validated. This is the critical process of the Z test."
   ]
  },
  {
   "cell_type": "code",
   "execution_count": 25,
   "metadata": {},
   "outputs": [
    {
     "name": "stdout",
     "output_type": "stream",
     "text": [
      "stat=0.903, p=0.000\n",
      "Probably dependent\n"
     ]
    }
   ],
   "source": [
    "# Spearman's Rank Correlation Test\n",
    "from scipy.stats import spearmanr\n",
    "data1 = [0.853, 2.817, 0.121, 0.945, -0.055, 1.436, -0.360, -1.478, -1.637, -1.869]\n",
    "data2 = [0.373, 3.517, 0.125, 7.545, -0.555, 1.536, -3.350, -1.578, -3.537, -1.579]\n",
    "stat, p = spearmanr(data1, data2)\n",
    "print('stat=%.3f, p=%.3f' % (stat, p))\n",
    "if p > 0.05:\n",
    "\tprint('Probably independent')\n",
    "else:\n",
    "\tprint('Probably dependent')"
   ]
  },
  {
   "cell_type": "markdown",
   "metadata": {},
   "source": [
    "Spearman’s Rank Correlation\n",
    "Tests whether two samples have a monotonic relationship.\n",
    "\n",
    "Assumptions\n",
    "\n",
    "Observations in each sample are independent and identically distributed (iid).\n",
    "Observations in each sample can be ranked.\n",
    "Interpretation\n",
    "\n",
    "H0: the two samples are independent.\n",
    "H1: there is a dependency between the samples."
   ]
  },
  {
   "cell_type": "code",
   "execution_count": 26,
   "metadata": {},
   "outputs": [
    {
     "name": "stdout",
     "output_type": "stream",
     "text": [
      "stat=9.500, p=0.064\n",
      "Probably the same distribution\n"
     ]
    }
   ],
   "source": [
    "# Mann-Whitney U Test\n",
    "from scipy.stats import mannwhitneyu\n",
    "row1 = [540, 670, 1000, 960, 1200, 4650, 4200]\n",
    "row2 = [5000, 4200, 1300, 900, 7400, 4500, 7500]\n",
    "stat, p = mannwhitneyu(row1, row2)\n",
    "print('stat=%.3f, p=%.3f' % (stat, p))\n",
    "if p > 0.05:\n",
    "\tprint('Probably the same distribution')\n",
    "else:\n",
    "\tprint('Probably different distributions')"
   ]
  },
  {
   "cell_type": "markdown",
   "metadata": {},
   "source": [
    "Nonparametric Statistical Hypothesis Tests\n",
    "Mann-Whitney U Test\n",
    "Tests whether the distributions of two independent samples are equal or not.\n",
    "\n",
    "Assumptions\n",
    "\n",
    "Observations in each sample are independent and identically distributed (iid).\n",
    "Observations in each sample can be ranked.\n",
    "Interpretation\n",
    "\n",
    "H0: the distributions of both samples are equal.\n",
    "H1: the distributions of both samples are not equal."
   ]
  },
  {
   "cell_type": "markdown",
   "metadata": {},
   "source": [
    " Conclusion: In this experiment we learnt how to use import dataset and conduct Z-test, Hypothesis test, parameterised and non parametrized\n",
    " Hypothesis Test"
   ]
  },
  {
   "cell_type": "markdown",
   "metadata": {},
   "source": [
    " POs achieved: PO1,PO2,PO3,PO4,PO5,PO8,PO10,PO12."
   ]
  }
 ],
 "metadata": {
  "kernelspec": {
   "display_name": "dm-env",
   "language": "python",
   "name": "python3"
  },
  "language_info": {
   "codemirror_mode": {
    "name": "ipython",
    "version": 3
   },
   "file_extension": ".py",
   "mimetype": "text/x-python",
   "name": "python",
   "nbconvert_exporter": "python",
   "pygments_lexer": "ipython3",
   "version": "3.9.21"
  }
 },
 "nbformat": 4,
 "nbformat_minor": 2
}

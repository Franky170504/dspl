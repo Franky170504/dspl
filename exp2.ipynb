{
 "cells": [
  {
   "cell_type": "markdown",
   "metadata": {},
   "source": [
    "Aim:- Data visualization/EDA for seleted dataset using matplotib and seaborn"
   ]
  },
  {
   "cell_type": "markdown",
   "metadata": {},
   "source": [
    "LO:- LO2"
   ]
  },
  {
   "cell_type": "code",
   "execution_count": 81,
   "metadata": {},
   "outputs": [],
   "source": [
    "import pandas as pd\n",
    "import numpy as np\n",
    "import matplotlib.pyplot as plt\n",
    "import seaborn as sns"
   ]
  },
  {
   "cell_type": "code",
   "execution_count": 61,
   "metadata": {},
   "outputs": [],
   "source": [
    "df = pd.read_csv('Toyota.csv', index_col=0, na_values=['??','????'])"
   ]
  },
  {
   "cell_type": "code",
   "execution_count": 62,
   "metadata": {},
   "outputs": [
    {
     "data": {
      "application/vnd.microsoft.datawrangler.viewer.v0+json": {
       "columns": [
        {
         "name": "index",
         "rawType": "int64",
         "type": "integer"
        },
        {
         "name": "Price",
         "rawType": "int64",
         "type": "integer"
        },
        {
         "name": "Age",
         "rawType": "float64",
         "type": "float"
        },
        {
         "name": "KM",
         "rawType": "float64",
         "type": "float"
        },
        {
         "name": "FuelType",
         "rawType": "object",
         "type": "unknown"
        },
        {
         "name": "HP",
         "rawType": "float64",
         "type": "float"
        },
        {
         "name": "MetColor",
         "rawType": "float64",
         "type": "float"
        },
        {
         "name": "Automatic",
         "rawType": "int64",
         "type": "integer"
        },
        {
         "name": "CC",
         "rawType": "int64",
         "type": "integer"
        },
        {
         "name": "Doors",
         "rawType": "object",
         "type": "string"
        },
        {
         "name": "Weight",
         "rawType": "int64",
         "type": "integer"
        }
       ],
       "conversionMethod": "pd.DataFrame",
       "ref": "7c68f35c-45bd-4c10-9c39-8d5f1c47064f",
       "rows": [
        [
         "0",
         "13500",
         "23.0",
         "46986.0",
         "Diesel",
         "90.0",
         "1.0",
         "0",
         "2000",
         "three",
         "1165"
        ],
        [
         "1",
         "13750",
         "23.0",
         "72937.0",
         "Diesel",
         "90.0",
         "1.0",
         "0",
         "2000",
         "3",
         "1165"
        ],
        [
         "2",
         "13950",
         "24.0",
         "41711.0",
         "Diesel",
         "90.0",
         null,
         "0",
         "2000",
         "3",
         "1165"
        ],
        [
         "3",
         "14950",
         "26.0",
         "48000.0",
         "Diesel",
         "90.0",
         "0.0",
         "0",
         "2000",
         "3",
         "1165"
        ],
        [
         "4",
         "13750",
         "30.0",
         "38500.0",
         "Diesel",
         "90.0",
         "0.0",
         "0",
         "2000",
         "3",
         "1170"
        ],
        [
         "5",
         "12950",
         "32.0",
         "61000.0",
         "Diesel",
         "90.0",
         "0.0",
         "0",
         "2000",
         "3",
         "1170"
        ],
        [
         "6",
         "16900",
         "27.0",
         null,
         "Diesel",
         null,
         null,
         "0",
         "2000",
         "3",
         "1245"
        ],
        [
         "7",
         "18600",
         "30.0",
         "75889.0",
         null,
         "90.0",
         "1.0",
         "0",
         "2000",
         "3",
         "1245"
        ],
        [
         "8",
         "21500",
         "27.0",
         "19700.0",
         "Petrol",
         "192.0",
         "0.0",
         "0",
         "1800",
         "3",
         "1185"
        ],
        [
         "9",
         "12950",
         "23.0",
         "71138.0",
         "Diesel",
         null,
         null,
         "0",
         "1900",
         "3",
         "1105"
        ],
        [
         "10",
         "20950",
         "25.0",
         "31461.0",
         "Petrol",
         "192.0",
         "0.0",
         "0",
         "1800",
         "3",
         "1185"
        ],
        [
         "11",
         "19950",
         "22.0",
         "43610.0",
         "Petrol",
         "192.0",
         "0.0",
         "0",
         "1800",
         "3",
         "1185"
        ],
        [
         "12",
         "19600",
         "25.0",
         "32189.0",
         "Petrol",
         "192.0",
         "0.0",
         "0",
         "1800",
         "3",
         "1185"
        ],
        [
         "13",
         "21500",
         "31.0",
         "23000.0",
         "Petrol",
         "192.0",
         "1.0",
         "0",
         "1800",
         "3",
         "1185"
        ],
        [
         "14",
         "22500",
         "32.0",
         "34131.0",
         "Petrol",
         "192.0",
         "1.0",
         "0",
         "1800",
         "3",
         "1185"
        ],
        [
         "15",
         "22000",
         "28.0",
         "18739.0",
         "Petrol",
         null,
         "0.0",
         "0",
         "1800",
         "3",
         "1185"
        ],
        [
         "16",
         "22750",
         "30.0",
         "34000.0",
         "Petrol",
         "192.0",
         "1.0",
         "0",
         "1800",
         "3",
         "1185"
        ],
        [
         "17",
         "17950",
         "24.0",
         "21716.0",
         "Petrol",
         "110.0",
         "1.0",
         "0",
         "1600",
         "3",
         "1105"
        ],
        [
         "18",
         "16750",
         "24.0",
         "25563.0",
         "Petrol",
         "110.0",
         "0.0",
         "0",
         "1600",
         "3",
         "1065"
        ],
        [
         "19",
         "16950",
         "30.0",
         "64359.0",
         "Petrol",
         "110.0",
         "1.0",
         "0",
         "1600",
         "3",
         "1105"
        ],
        [
         "20",
         "15950",
         "30.0",
         "67660.0",
         "Petrol",
         "110.0",
         "1.0",
         "0",
         "1600",
         "3",
         "1105"
        ],
        [
         "21",
         "16950",
         "29.0",
         "43905.0",
         null,
         "110.0",
         "0.0",
         "1",
         "1600",
         "3",
         "1170"
        ],
        [
         "22",
         "15950",
         "28.0",
         "56349.0",
         "Petrol",
         "110.0",
         "1.0",
         "0",
         "1600",
         "3",
         "1120"
        ],
        [
         "23",
         "16950",
         "28.0",
         "32220.0",
         "Petrol",
         "110.0",
         "1.0",
         "0",
         "1600",
         "3",
         "1120"
        ],
        [
         "24",
         "16250",
         "29.0",
         "25813.0",
         "Petrol",
         "110.0",
         "1.0",
         "0",
         "1600",
         "3",
         "1120"
        ],
        [
         "25",
         "15950",
         "25.0",
         "28450.0",
         "Petrol",
         "110.0",
         "1.0",
         "0",
         "1600",
         "3",
         "1120"
        ],
        [
         "26",
         "17495",
         "27.0",
         "34545.0",
         null,
         "110.0",
         "1.0",
         "0",
         "1600",
         "3",
         "1120"
        ],
        [
         "27",
         "15750",
         "29.0",
         "41415.0",
         "Petrol",
         "110.0",
         "1.0",
         "0",
         "1600",
         "3",
         "1120"
        ],
        [
         "28",
         "16950",
         "28.0",
         "44142.0",
         "Petrol",
         "110.0",
         "0.0",
         "0",
         "1600",
         "3",
         "1120"
        ],
        [
         "29",
         "17950",
         "30.0",
         "11090.0",
         null,
         "110.0",
         null,
         "0",
         "1600",
         "3",
         "1120"
        ],
        [
         "30",
         "12950",
         "29.0",
         "9750.0",
         "Petrol",
         "97.0",
         "1.0",
         "0",
         "1400",
         "3",
         "1100"
        ],
        [
         "31",
         "15750",
         "22.0",
         "35199.0",
         "Petrol",
         "97.0",
         "1.0",
         "0",
         "1400",
         "3",
         "1100"
        ],
        [
         "32",
         "15950",
         "27.0",
         "29510.0",
         "Petrol",
         "97.0",
         "1.0",
         "0",
         "1400",
         "3",
         "1100"
        ],
        [
         "33",
         "14950",
         null,
         "32692.0",
         "Petrol",
         "97.0",
         "1.0",
         "0",
         "1400",
         "3",
         "1100"
        ],
        [
         "34",
         "15500",
         "22.0",
         "41000.0",
         "Petrol",
         "97.0",
         "1.0",
         "0",
         "1400",
         "3",
         "1100"
        ],
        [
         "35",
         "15750",
         "26.0",
         "43000.0",
         "Petrol",
         "97.0",
         "0.0",
         "0",
         "1400",
         "3",
         "1100"
        ],
        [
         "36",
         "15950",
         "25.0",
         "25000.0",
         "Petrol",
         "97.0",
         "0.0",
         "0",
         "1400",
         "3",
         "1100"
        ],
        [
         "37",
         "14950",
         "23.0",
         "10000.0",
         "Petrol",
         "97.0",
         "1.0",
         "0",
         "1400",
         "3",
         "1100"
        ],
        [
         "38",
         "15750",
         "32.0",
         "25329.0",
         "Petrol",
         "97.0",
         "1.0",
         "0",
         "1400",
         "3",
         "1100"
        ],
        [
         "39",
         "14750",
         "27.0",
         "27500.0",
         "Petrol",
         "97.0",
         "0.0",
         "0",
         "1400",
         "3",
         "1100"
        ],
        [
         "40",
         "13950",
         "22.0",
         "49059.0",
         "Petrol",
         "97.0",
         "0.0",
         "0",
         "1400",
         "3",
         "1100"
        ],
        [
         "41",
         "16750",
         "27.0",
         "44068.0",
         "Petrol",
         "97.0",
         "1.0",
         "0",
         "1400",
         "3",
         "1100"
        ],
        [
         "42",
         "13950",
         "22.0",
         "46961.0",
         "Petrol",
         "97.0",
         "0.0",
         "0",
         "1400",
         "3",
         "1100"
        ],
        [
         "43",
         "16950",
         "27.0",
         "110404.0",
         "Diesel",
         "90.0",
         null,
         "0",
         "2000",
         "5",
         "1255"
        ],
        [
         "44",
         "16950",
         "22.0",
         "100250.0",
         null,
         "90.0",
         "0.0",
         "0",
         "2000",
         "5",
         "1255"
        ],
        [
         "45",
         "19000",
         "23.0",
         "84000.0",
         "Diesel",
         "90.0",
         null,
         "0",
         "2000",
         "5",
         "1270"
        ],
        [
         "46",
         "17950",
         "27.0",
         "79375.0",
         "Diesel",
         "90.0",
         "1.0",
         "0",
         "2000",
         "5",
         "1255"
        ],
        [
         "47",
         "15800",
         "22.0",
         "75048.0",
         "Petrol",
         "97.0",
         "1.0",
         "0",
         "1400",
         "5",
         "1110"
        ],
        [
         "48",
         "17950",
         "22.0",
         "72215.0",
         "Diesel",
         "90.0",
         "1.0",
         "0",
         "2000",
         "5",
         "1255"
        ],
        [
         "49",
         "21950",
         "31.0",
         "64982.0",
         "Petrol",
         "192.0",
         null,
         "0",
         "1800",
         "5",
         "1195"
        ]
       ],
       "shape": {
        "columns": 10,
        "rows": 1436
       }
      },
      "text/html": [
       "<div>\n",
       "<style scoped>\n",
       "    .dataframe tbody tr th:only-of-type {\n",
       "        vertical-align: middle;\n",
       "    }\n",
       "\n",
       "    .dataframe tbody tr th {\n",
       "        vertical-align: top;\n",
       "    }\n",
       "\n",
       "    .dataframe thead th {\n",
       "        text-align: right;\n",
       "    }\n",
       "</style>\n",
       "<table border=\"1\" class=\"dataframe\">\n",
       "  <thead>\n",
       "    <tr style=\"text-align: right;\">\n",
       "      <th></th>\n",
       "      <th>Price</th>\n",
       "      <th>Age</th>\n",
       "      <th>KM</th>\n",
       "      <th>FuelType</th>\n",
       "      <th>HP</th>\n",
       "      <th>MetColor</th>\n",
       "      <th>Automatic</th>\n",
       "      <th>CC</th>\n",
       "      <th>Doors</th>\n",
       "      <th>Weight</th>\n",
       "    </tr>\n",
       "  </thead>\n",
       "  <tbody>\n",
       "    <tr>\n",
       "      <th>0</th>\n",
       "      <td>13500</td>\n",
       "      <td>23.0</td>\n",
       "      <td>46986.0</td>\n",
       "      <td>Diesel</td>\n",
       "      <td>90.0</td>\n",
       "      <td>1.0</td>\n",
       "      <td>0</td>\n",
       "      <td>2000</td>\n",
       "      <td>three</td>\n",
       "      <td>1165</td>\n",
       "    </tr>\n",
       "    <tr>\n",
       "      <th>1</th>\n",
       "      <td>13750</td>\n",
       "      <td>23.0</td>\n",
       "      <td>72937.0</td>\n",
       "      <td>Diesel</td>\n",
       "      <td>90.0</td>\n",
       "      <td>1.0</td>\n",
       "      <td>0</td>\n",
       "      <td>2000</td>\n",
       "      <td>3</td>\n",
       "      <td>1165</td>\n",
       "    </tr>\n",
       "    <tr>\n",
       "      <th>2</th>\n",
       "      <td>13950</td>\n",
       "      <td>24.0</td>\n",
       "      <td>41711.0</td>\n",
       "      <td>Diesel</td>\n",
       "      <td>90.0</td>\n",
       "      <td>NaN</td>\n",
       "      <td>0</td>\n",
       "      <td>2000</td>\n",
       "      <td>3</td>\n",
       "      <td>1165</td>\n",
       "    </tr>\n",
       "    <tr>\n",
       "      <th>3</th>\n",
       "      <td>14950</td>\n",
       "      <td>26.0</td>\n",
       "      <td>48000.0</td>\n",
       "      <td>Diesel</td>\n",
       "      <td>90.0</td>\n",
       "      <td>0.0</td>\n",
       "      <td>0</td>\n",
       "      <td>2000</td>\n",
       "      <td>3</td>\n",
       "      <td>1165</td>\n",
       "    </tr>\n",
       "    <tr>\n",
       "      <th>4</th>\n",
       "      <td>13750</td>\n",
       "      <td>30.0</td>\n",
       "      <td>38500.0</td>\n",
       "      <td>Diesel</td>\n",
       "      <td>90.0</td>\n",
       "      <td>0.0</td>\n",
       "      <td>0</td>\n",
       "      <td>2000</td>\n",
       "      <td>3</td>\n",
       "      <td>1170</td>\n",
       "    </tr>\n",
       "    <tr>\n",
       "      <th>...</th>\n",
       "      <td>...</td>\n",
       "      <td>...</td>\n",
       "      <td>...</td>\n",
       "      <td>...</td>\n",
       "      <td>...</td>\n",
       "      <td>...</td>\n",
       "      <td>...</td>\n",
       "      <td>...</td>\n",
       "      <td>...</td>\n",
       "      <td>...</td>\n",
       "    </tr>\n",
       "    <tr>\n",
       "      <th>1431</th>\n",
       "      <td>7500</td>\n",
       "      <td>NaN</td>\n",
       "      <td>20544.0</td>\n",
       "      <td>Petrol</td>\n",
       "      <td>86.0</td>\n",
       "      <td>1.0</td>\n",
       "      <td>0</td>\n",
       "      <td>1300</td>\n",
       "      <td>3</td>\n",
       "      <td>1025</td>\n",
       "    </tr>\n",
       "    <tr>\n",
       "      <th>1432</th>\n",
       "      <td>10845</td>\n",
       "      <td>72.0</td>\n",
       "      <td>NaN</td>\n",
       "      <td>Petrol</td>\n",
       "      <td>86.0</td>\n",
       "      <td>0.0</td>\n",
       "      <td>0</td>\n",
       "      <td>1300</td>\n",
       "      <td>3</td>\n",
       "      <td>1015</td>\n",
       "    </tr>\n",
       "    <tr>\n",
       "      <th>1433</th>\n",
       "      <td>8500</td>\n",
       "      <td>NaN</td>\n",
       "      <td>17016.0</td>\n",
       "      <td>Petrol</td>\n",
       "      <td>86.0</td>\n",
       "      <td>0.0</td>\n",
       "      <td>0</td>\n",
       "      <td>1300</td>\n",
       "      <td>3</td>\n",
       "      <td>1015</td>\n",
       "    </tr>\n",
       "    <tr>\n",
       "      <th>1434</th>\n",
       "      <td>7250</td>\n",
       "      <td>70.0</td>\n",
       "      <td>NaN</td>\n",
       "      <td>NaN</td>\n",
       "      <td>86.0</td>\n",
       "      <td>1.0</td>\n",
       "      <td>0</td>\n",
       "      <td>1300</td>\n",
       "      <td>3</td>\n",
       "      <td>1015</td>\n",
       "    </tr>\n",
       "    <tr>\n",
       "      <th>1435</th>\n",
       "      <td>6950</td>\n",
       "      <td>76.0</td>\n",
       "      <td>1.0</td>\n",
       "      <td>Petrol</td>\n",
       "      <td>110.0</td>\n",
       "      <td>0.0</td>\n",
       "      <td>0</td>\n",
       "      <td>1600</td>\n",
       "      <td>5</td>\n",
       "      <td>1114</td>\n",
       "    </tr>\n",
       "  </tbody>\n",
       "</table>\n",
       "<p>1436 rows × 10 columns</p>\n",
       "</div>"
      ],
      "text/plain": [
       "      Price   Age       KM FuelType     HP  MetColor  Automatic    CC  Doors  \\\n",
       "0     13500  23.0  46986.0   Diesel   90.0       1.0          0  2000  three   \n",
       "1     13750  23.0  72937.0   Diesel   90.0       1.0          0  2000      3   \n",
       "2     13950  24.0  41711.0   Diesel   90.0       NaN          0  2000      3   \n",
       "3     14950  26.0  48000.0   Diesel   90.0       0.0          0  2000      3   \n",
       "4     13750  30.0  38500.0   Diesel   90.0       0.0          0  2000      3   \n",
       "...     ...   ...      ...      ...    ...       ...        ...   ...    ...   \n",
       "1431   7500   NaN  20544.0   Petrol   86.0       1.0          0  1300      3   \n",
       "1432  10845  72.0      NaN   Petrol   86.0       0.0          0  1300      3   \n",
       "1433   8500   NaN  17016.0   Petrol   86.0       0.0          0  1300      3   \n",
       "1434   7250  70.0      NaN      NaN   86.0       1.0          0  1300      3   \n",
       "1435   6950  76.0      1.0   Petrol  110.0       0.0          0  1600      5   \n",
       "\n",
       "      Weight  \n",
       "0       1165  \n",
       "1       1165  \n",
       "2       1165  \n",
       "3       1165  \n",
       "4       1170  \n",
       "...      ...  \n",
       "1431    1025  \n",
       "1432    1015  \n",
       "1433    1015  \n",
       "1434    1015  \n",
       "1435    1114  \n",
       "\n",
       "[1436 rows x 10 columns]"
      ]
     },
     "execution_count": 62,
     "metadata": {},
     "output_type": "execute_result"
    }
   ],
   "source": [
    "df"
   ]
  },
  {
   "cell_type": "code",
   "execution_count": 63,
   "metadata": {},
   "outputs": [
    {
     "data": {
      "application/vnd.microsoft.datawrangler.viewer.v0+json": {
       "columns": [
        {
         "name": "FuelType",
         "rawType": "object",
         "type": "string"
        },
        {
         "name": "count",
         "rawType": "int64",
         "type": "integer"
        }
       ],
       "conversionMethod": "pd.DataFrame",
       "ref": "d9f711e9-7ebf-4d06-b7d3-1469b8d13279",
       "rows": [
        [
         "CNG",
         "15"
        ],
        [
         "Diesel",
         "144"
        ],
        [
         "Petrol",
         "1177"
        ]
       ],
       "shape": {
        "columns": 1,
        "rows": 3
       }
      },
      "text/html": [
       "<div>\n",
       "<style scoped>\n",
       "    .dataframe tbody tr th:only-of-type {\n",
       "        vertical-align: middle;\n",
       "    }\n",
       "\n",
       "    .dataframe tbody tr th {\n",
       "        vertical-align: top;\n",
       "    }\n",
       "\n",
       "    .dataframe thead th {\n",
       "        text-align: right;\n",
       "    }\n",
       "</style>\n",
       "<table border=\"1\" class=\"dataframe\">\n",
       "  <thead>\n",
       "    <tr style=\"text-align: right;\">\n",
       "      <th>col_0</th>\n",
       "      <th>count</th>\n",
       "    </tr>\n",
       "    <tr>\n",
       "      <th>FuelType</th>\n",
       "      <th></th>\n",
       "    </tr>\n",
       "  </thead>\n",
       "  <tbody>\n",
       "    <tr>\n",
       "      <th>CNG</th>\n",
       "      <td>15</td>\n",
       "    </tr>\n",
       "    <tr>\n",
       "      <th>Diesel</th>\n",
       "      <td>144</td>\n",
       "    </tr>\n",
       "    <tr>\n",
       "      <th>Petrol</th>\n",
       "      <td>1177</td>\n",
       "    </tr>\n",
       "  </tbody>\n",
       "</table>\n",
       "</div>"
      ],
      "text/plain": [
       "col_0     count\n",
       "FuelType       \n",
       "CNG          15\n",
       "Diesel      144\n",
       "Petrol     1177"
      ]
     },
     "execution_count": 63,
     "metadata": {},
     "output_type": "execute_result"
    }
   ],
   "source": [
    "pd.crosstab(index=df['FuelType'], columns='count',dropna=True)"
   ]
  },
  {
   "cell_type": "code",
   "execution_count": 64,
   "metadata": {},
   "outputs": [
    {
     "data": {
      "application/vnd.microsoft.datawrangler.viewer.v0+json": {
       "columns": [
        {
         "name": "Automatic",
         "rawType": "int64",
         "type": "integer"
        },
        {
         "name": "CNG",
         "rawType": "int64",
         "type": "integer"
        },
        {
         "name": "Diesel",
         "rawType": "int64",
         "type": "integer"
        },
        {
         "name": "Petrol",
         "rawType": "int64",
         "type": "integer"
        }
       ],
       "conversionMethod": "pd.DataFrame",
       "ref": "ea1cbc56-0517-4bc2-aae8-fff2b805cdce",
       "rows": [
        [
         "0",
         "15",
         "144",
         "1104"
        ],
        [
         "1",
         "0",
         "0",
         "73"
        ]
       ],
       "shape": {
        "columns": 3,
        "rows": 2
       }
      },
      "text/html": [
       "<div>\n",
       "<style scoped>\n",
       "    .dataframe tbody tr th:only-of-type {\n",
       "        vertical-align: middle;\n",
       "    }\n",
       "\n",
       "    .dataframe tbody tr th {\n",
       "        vertical-align: top;\n",
       "    }\n",
       "\n",
       "    .dataframe thead th {\n",
       "        text-align: right;\n",
       "    }\n",
       "</style>\n",
       "<table border=\"1\" class=\"dataframe\">\n",
       "  <thead>\n",
       "    <tr style=\"text-align: right;\">\n",
       "      <th>FuelType</th>\n",
       "      <th>CNG</th>\n",
       "      <th>Diesel</th>\n",
       "      <th>Petrol</th>\n",
       "    </tr>\n",
       "    <tr>\n",
       "      <th>Automatic</th>\n",
       "      <th></th>\n",
       "      <th></th>\n",
       "      <th></th>\n",
       "    </tr>\n",
       "  </thead>\n",
       "  <tbody>\n",
       "    <tr>\n",
       "      <th>0</th>\n",
       "      <td>15</td>\n",
       "      <td>144</td>\n",
       "      <td>1104</td>\n",
       "    </tr>\n",
       "    <tr>\n",
       "      <th>1</th>\n",
       "      <td>0</td>\n",
       "      <td>0</td>\n",
       "      <td>73</td>\n",
       "    </tr>\n",
       "  </tbody>\n",
       "</table>\n",
       "</div>"
      ],
      "text/plain": [
       "FuelType   CNG  Diesel  Petrol\n",
       "Automatic                     \n",
       "0           15     144    1104\n",
       "1            0       0      73"
      ]
     },
     "execution_count": 64,
     "metadata": {},
     "output_type": "execute_result"
    }
   ],
   "source": [
    "pd.crosstab(index=df['Automatic'], columns=df['FuelType'],dropna=True)"
   ]
  },
  {
   "cell_type": "code",
   "execution_count": 65,
   "metadata": {},
   "outputs": [
    {
     "data": {
      "text/plain": [
       "Price          0\n",
       "Age          100\n",
       "KM            15\n",
       "FuelType     100\n",
       "HP             6\n",
       "MetColor     150\n",
       "Automatic      0\n",
       "CC             0\n",
       "Doors          0\n",
       "Weight         0\n",
       "dtype: int64"
      ]
     },
     "execution_count": 65,
     "metadata": {},
     "output_type": "execute_result"
    }
   ],
   "source": [
    "df.isnull().sum()"
   ]
  },
  {
   "cell_type": "markdown",
   "metadata": {},
   "source": [
    " We use Python's built-in functions to identify these missing values. There are two methods to detect missing data:\".isnull()\",\n",
    " \".notnull()\". The output is a boolean value indicating whether the value that is passed into the argument is in fact missing data."
   ]
  },
  {
   "cell_type": "code",
   "execution_count": 66,
   "metadata": {},
   "outputs": [
    {
     "data": {
      "application/vnd.microsoft.datawrangler.viewer.v0+json": {
       "columns": [
        {
         "name": "index",
         "rawType": "object",
         "type": "string"
        },
        {
         "name": "Price",
         "rawType": "float64",
         "type": "float"
        },
        {
         "name": "Age",
         "rawType": "float64",
         "type": "float"
        },
        {
         "name": "KM",
         "rawType": "float64",
         "type": "float"
        },
        {
         "name": "HP",
         "rawType": "float64",
         "type": "float"
        },
        {
         "name": "MetColor",
         "rawType": "float64",
         "type": "float"
        },
        {
         "name": "Automatic",
         "rawType": "float64",
         "type": "float"
        },
        {
         "name": "CC",
         "rawType": "float64",
         "type": "float"
        },
        {
         "name": "Weight",
         "rawType": "float64",
         "type": "float"
        }
       ],
       "conversionMethod": "pd.DataFrame",
       "ref": "071f2d8a-ebcd-4944-9c35-ae02ee2f9dd2",
       "rows": [
        [
         "count",
         "1436.0",
         "1336.0",
         "1421.0",
         "1430.0",
         "1286.0",
         "1436.0",
         "1436.0",
         "1436.0"
        ],
        [
         "mean",
         "10730.824512534818",
         "55.67215568862275",
         "68647.23997185081",
         "101.47832167832168",
         "0.6749611197511665",
         "0.055710306406685235",
         "1566.8279944289693",
         "1072.4596100278552"
        ],
        [
         "std",
         "3626.9645849102444",
         "18.58980438600216",
         "37333.02358948733",
         "14.76825477758516",
         "0.4685715921911513",
         "0.22944133861584182",
         "187.18243632916315",
         "52.64112048693106"
        ],
        [
         "min",
         "4350.0",
         "1.0",
         "1.0",
         "69.0",
         "0.0",
         "0.0",
         "1300.0",
         "1000.0"
        ],
        [
         "25%",
         "8450.0",
         "43.0",
         "43210.0",
         "90.0",
         "0.0",
         "0.0",
         "1400.0",
         "1040.0"
        ],
        [
         "50%",
         "9900.0",
         "60.0",
         "63634.0",
         "110.0",
         "1.0",
         "0.0",
         "1600.0",
         "1070.0"
        ],
        [
         "75%",
         "11950.0",
         "70.0",
         "87000.0",
         "110.0",
         "1.0",
         "0.0",
         "1600.0",
         "1085.0"
        ],
        [
         "max",
         "32500.0",
         "80.0",
         "243000.0",
         "192.0",
         "1.0",
         "1.0",
         "2000.0",
         "1615.0"
        ]
       ],
       "shape": {
        "columns": 8,
        "rows": 8
       }
      },
      "text/html": [
       "<div>\n",
       "<style scoped>\n",
       "    .dataframe tbody tr th:only-of-type {\n",
       "        vertical-align: middle;\n",
       "    }\n",
       "\n",
       "    .dataframe tbody tr th {\n",
       "        vertical-align: top;\n",
       "    }\n",
       "\n",
       "    .dataframe thead th {\n",
       "        text-align: right;\n",
       "    }\n",
       "</style>\n",
       "<table border=\"1\" class=\"dataframe\">\n",
       "  <thead>\n",
       "    <tr style=\"text-align: right;\">\n",
       "      <th></th>\n",
       "      <th>Price</th>\n",
       "      <th>Age</th>\n",
       "      <th>KM</th>\n",
       "      <th>HP</th>\n",
       "      <th>MetColor</th>\n",
       "      <th>Automatic</th>\n",
       "      <th>CC</th>\n",
       "      <th>Weight</th>\n",
       "    </tr>\n",
       "  </thead>\n",
       "  <tbody>\n",
       "    <tr>\n",
       "      <th>count</th>\n",
       "      <td>1436.000000</td>\n",
       "      <td>1336.000000</td>\n",
       "      <td>1421.000000</td>\n",
       "      <td>1430.000000</td>\n",
       "      <td>1286.000000</td>\n",
       "      <td>1436.000000</td>\n",
       "      <td>1436.000000</td>\n",
       "      <td>1436.00000</td>\n",
       "    </tr>\n",
       "    <tr>\n",
       "      <th>mean</th>\n",
       "      <td>10730.824513</td>\n",
       "      <td>55.672156</td>\n",
       "      <td>68647.239972</td>\n",
       "      <td>101.478322</td>\n",
       "      <td>0.674961</td>\n",
       "      <td>0.055710</td>\n",
       "      <td>1566.827994</td>\n",
       "      <td>1072.45961</td>\n",
       "    </tr>\n",
       "    <tr>\n",
       "      <th>std</th>\n",
       "      <td>3626.964585</td>\n",
       "      <td>18.589804</td>\n",
       "      <td>37333.023589</td>\n",
       "      <td>14.768255</td>\n",
       "      <td>0.468572</td>\n",
       "      <td>0.229441</td>\n",
       "      <td>187.182436</td>\n",
       "      <td>52.64112</td>\n",
       "    </tr>\n",
       "    <tr>\n",
       "      <th>min</th>\n",
       "      <td>4350.000000</td>\n",
       "      <td>1.000000</td>\n",
       "      <td>1.000000</td>\n",
       "      <td>69.000000</td>\n",
       "      <td>0.000000</td>\n",
       "      <td>0.000000</td>\n",
       "      <td>1300.000000</td>\n",
       "      <td>1000.00000</td>\n",
       "    </tr>\n",
       "    <tr>\n",
       "      <th>25%</th>\n",
       "      <td>8450.000000</td>\n",
       "      <td>43.000000</td>\n",
       "      <td>43210.000000</td>\n",
       "      <td>90.000000</td>\n",
       "      <td>0.000000</td>\n",
       "      <td>0.000000</td>\n",
       "      <td>1400.000000</td>\n",
       "      <td>1040.00000</td>\n",
       "    </tr>\n",
       "    <tr>\n",
       "      <th>50%</th>\n",
       "      <td>9900.000000</td>\n",
       "      <td>60.000000</td>\n",
       "      <td>63634.000000</td>\n",
       "      <td>110.000000</td>\n",
       "      <td>1.000000</td>\n",
       "      <td>0.000000</td>\n",
       "      <td>1600.000000</td>\n",
       "      <td>1070.00000</td>\n",
       "    </tr>\n",
       "    <tr>\n",
       "      <th>75%</th>\n",
       "      <td>11950.000000</td>\n",
       "      <td>70.000000</td>\n",
       "      <td>87000.000000</td>\n",
       "      <td>110.000000</td>\n",
       "      <td>1.000000</td>\n",
       "      <td>0.000000</td>\n",
       "      <td>1600.000000</td>\n",
       "      <td>1085.00000</td>\n",
       "    </tr>\n",
       "    <tr>\n",
       "      <th>max</th>\n",
       "      <td>32500.000000</td>\n",
       "      <td>80.000000</td>\n",
       "      <td>243000.000000</td>\n",
       "      <td>192.000000</td>\n",
       "      <td>1.000000</td>\n",
       "      <td>1.000000</td>\n",
       "      <td>2000.000000</td>\n",
       "      <td>1615.00000</td>\n",
       "    </tr>\n",
       "  </tbody>\n",
       "</table>\n",
       "</div>"
      ],
      "text/plain": [
       "              Price          Age             KM           HP     MetColor  \\\n",
       "count   1436.000000  1336.000000    1421.000000  1430.000000  1286.000000   \n",
       "mean   10730.824513    55.672156   68647.239972   101.478322     0.674961   \n",
       "std     3626.964585    18.589804   37333.023589    14.768255     0.468572   \n",
       "min     4350.000000     1.000000       1.000000    69.000000     0.000000   \n",
       "25%     8450.000000    43.000000   43210.000000    90.000000     0.000000   \n",
       "50%     9900.000000    60.000000   63634.000000   110.000000     1.000000   \n",
       "75%    11950.000000    70.000000   87000.000000   110.000000     1.000000   \n",
       "max    32500.000000    80.000000  243000.000000   192.000000     1.000000   \n",
       "\n",
       "         Automatic           CC      Weight  \n",
       "count  1436.000000  1436.000000  1436.00000  \n",
       "mean      0.055710  1566.827994  1072.45961  \n",
       "std       0.229441   187.182436    52.64112  \n",
       "min       0.000000  1300.000000  1000.00000  \n",
       "25%       0.000000  1400.000000  1040.00000  \n",
       "50%       0.000000  1600.000000  1070.00000  \n",
       "75%       0.000000  1600.000000  1085.00000  \n",
       "max       1.000000  2000.000000  1615.00000  "
      ]
     },
     "execution_count": 66,
     "metadata": {},
     "output_type": "execute_result"
    }
   ],
   "source": [
    "df.describe()"
   ]
  },
  {
   "cell_type": "markdown",
   "metadata": {},
   "source": [
    "Describe function is used for giving statistical information about the colums"
   ]
  },
  {
   "cell_type": "code",
   "execution_count": 67,
   "metadata": {},
   "outputs": [
    {
     "name": "stderr",
     "output_type": "stream",
     "text": [
      "C:\\Users\\LaukikS\\AppData\\Local\\Temp\\ipykernel_8880\\1698716155.py:1: FutureWarning: A value is trying to be set on a copy of a DataFrame or Series through chained assignment using an inplace method.\n",
      "The behavior will change in pandas 3.0. This inplace method will never work because the intermediate object on which we are setting values always behaves as a copy.\n",
      "\n",
      "For example, when doing 'df[col].method(value, inplace=True)', try using 'df.method({col: value}, inplace=True)' or df[col] = df[col].method(value) instead, to perform the operation inplace on the original object.\n",
      "\n",
      "\n",
      "  df['Age'].fillna(df['Age'].mean(), inplace=True)\n"
     ]
    }
   ],
   "source": [
    "df['Age'].fillna(df['Age'].mean(), inplace=True)"
   ]
  },
  {
   "cell_type": "code",
   "execution_count": 68,
   "metadata": {},
   "outputs": [
    {
     "name": "stderr",
     "output_type": "stream",
     "text": [
      "C:\\Users\\LaukikS\\AppData\\Local\\Temp\\ipykernel_8880\\2389619017.py:1: FutureWarning: A value is trying to be set on a copy of a DataFrame or Series through chained assignment using an inplace method.\n",
      "The behavior will change in pandas 3.0. This inplace method will never work because the intermediate object on which we are setting values always behaves as a copy.\n",
      "\n",
      "For example, when doing 'df[col].method(value, inplace=True)', try using 'df.method({col: value}, inplace=True)' or df[col] = df[col].method(value) instead, to perform the operation inplace on the original object.\n",
      "\n",
      "\n",
      "  df['KM'].fillna(df['KM'].median(), inplace=True)\n"
     ]
    }
   ],
   "source": [
    "df['KM'].fillna(df['KM'].median(), inplace=True)"
   ]
  },
  {
   "cell_type": "code",
   "execution_count": 69,
   "metadata": {},
   "outputs": [
    {
     "name": "stderr",
     "output_type": "stream",
     "text": [
      "C:\\Users\\LaukikS\\AppData\\Local\\Temp\\ipykernel_8880\\2669398220.py:1: FutureWarning: A value is trying to be set on a copy of a DataFrame or Series through chained assignment using an inplace method.\n",
      "The behavior will change in pandas 3.0. This inplace method will never work because the intermediate object on which we are setting values always behaves as a copy.\n",
      "\n",
      "For example, when doing 'df[col].method(value, inplace=True)', try using 'df.method({col: value}, inplace=True)' or df[col] = df[col].method(value) instead, to perform the operation inplace on the original object.\n",
      "\n",
      "\n",
      "  df['HP'].fillna(df['HP'].mean(), inplace=True)\n"
     ]
    }
   ],
   "source": [
    "df['HP'].fillna(df['HP'].mean(), inplace=True)"
   ]
  },
  {
   "cell_type": "code",
   "execution_count": 70,
   "metadata": {},
   "outputs": [
    {
     "name": "stderr",
     "output_type": "stream",
     "text": [
      "C:\\Users\\LaukikS\\AppData\\Local\\Temp\\ipykernel_8880\\2634726338.py:1: FutureWarning: A value is trying to be set on a copy of a DataFrame or Series through chained assignment using an inplace method.\n",
      "The behavior will change in pandas 3.0. This inplace method will never work because the intermediate object on which we are setting values always behaves as a copy.\n",
      "\n",
      "For example, when doing 'df[col].method(value, inplace=True)', try using 'df.method({col: value}, inplace=True)' or df[col] = df[col].method(value) instead, to perform the operation inplace on the original object.\n",
      "\n",
      "\n",
      "  df['FuelType'].fillna(df['FuelType'].value_counts().index[0],inplace = True)\n"
     ]
    }
   ],
   "source": [
    "df['FuelType'].fillna(df['FuelType'].value_counts().index[0],inplace = True)"
   ]
  },
  {
   "cell_type": "code",
   "execution_count": 71,
   "metadata": {},
   "outputs": [
    {
     "name": "stderr",
     "output_type": "stream",
     "text": [
      "C:\\Users\\LaukikS\\AppData\\Local\\Temp\\ipykernel_8880\\3257485330.py:1: FutureWarning: A value is trying to be set on a copy of a DataFrame or Series through chained assignment using an inplace method.\n",
      "The behavior will change in pandas 3.0. This inplace method will never work because the intermediate object on which we are setting values always behaves as a copy.\n",
      "\n",
      "For example, when doing 'df[col].method(value, inplace=True)', try using 'df.method({col: value}, inplace=True)' or df[col] = df[col].method(value) instead, to perform the operation inplace on the original object.\n",
      "\n",
      "\n",
      "  df['MetColor'].fillna(df['MetColor'].mode()[0], inplace=True)\n"
     ]
    }
   ],
   "source": [
    "df['MetColor'].fillna(df['MetColor'].mode()[0], inplace=True)"
   ]
  },
  {
   "cell_type": "code",
   "execution_count": 72,
   "metadata": {},
   "outputs": [
    {
     "data": {
      "text/plain": [
       "Price        0\n",
       "Age          0\n",
       "KM           0\n",
       "FuelType     0\n",
       "HP           0\n",
       "MetColor     0\n",
       "Automatic    0\n",
       "CC           0\n",
       "Doors        0\n",
       "Weight       0\n",
       "dtype: int64"
      ]
     },
     "execution_count": 72,
     "metadata": {},
     "output_type": "execute_result"
    }
   ],
   "source": [
    "df.isnull().sum()"
   ]
  },
  {
   "cell_type": "code",
   "execution_count": 75,
   "metadata": {},
   "outputs": [
    {
     "data": {
      "application/vnd.microsoft.datawrangler.viewer.v0+json": {
       "columns": [
        {
         "name": "index",
         "rawType": "int64",
         "type": "integer"
        },
        {
         "name": "Price",
         "rawType": "int64",
         "type": "integer"
        },
        {
         "name": "Age",
         "rawType": "float64",
         "type": "float"
        },
        {
         "name": "KM",
         "rawType": "float64",
         "type": "float"
        },
        {
         "name": "FuelType",
         "rawType": "object",
         "type": "string"
        },
        {
         "name": "HP",
         "rawType": "float64",
         "type": "float"
        },
        {
         "name": "MetColor",
         "rawType": "float64",
         "type": "float"
        },
        {
         "name": "Automatic",
         "rawType": "int64",
         "type": "integer"
        },
        {
         "name": "CC",
         "rawType": "int64",
         "type": "integer"
        },
        {
         "name": "Doors",
         "rawType": "object",
         "type": "string"
        },
        {
         "name": "Weight",
         "rawType": "int64",
         "type": "integer"
        }
       ],
       "conversionMethod": "pd.DataFrame",
       "ref": "fa343ea5-83fa-441e-b736-63ef87d8bb8d",
       "rows": [
        [
         "0",
         "13500",
         "23.0",
         "46986.0",
         "Diesel",
         "90.0",
         "1.0",
         "0",
         "2000",
         "three",
         "1165"
        ],
        [
         "1",
         "13750",
         "23.0",
         "72937.0",
         "Diesel",
         "90.0",
         "1.0",
         "0",
         "2000",
         "3",
         "1165"
        ],
        [
         "2",
         "13950",
         "24.0",
         "41711.0",
         "Diesel",
         "90.0",
         "1.0",
         "0",
         "2000",
         "3",
         "1165"
        ],
        [
         "3",
         "14950",
         "26.0",
         "48000.0",
         "Diesel",
         "90.0",
         "0.0",
         "0",
         "2000",
         "3",
         "1165"
        ],
        [
         "4",
         "13750",
         "30.0",
         "38500.0",
         "Diesel",
         "90.0",
         "0.0",
         "0",
         "2000",
         "3",
         "1170"
        ],
        [
         "5",
         "12950",
         "32.0",
         "61000.0",
         "Diesel",
         "90.0",
         "0.0",
         "0",
         "2000",
         "3",
         "1170"
        ],
        [
         "6",
         "16900",
         "27.0",
         "63634.0",
         "Diesel",
         "101.47832167832168",
         "1.0",
         "0",
         "2000",
         "3",
         "1245"
        ],
        [
         "7",
         "18600",
         "30.0",
         "75889.0",
         "Petrol",
         "90.0",
         "1.0",
         "0",
         "2000",
         "3",
         "1245"
        ],
        [
         "8",
         "21500",
         "27.0",
         "19700.0",
         "Petrol",
         "192.0",
         "0.0",
         "0",
         "1800",
         "3",
         "1185"
        ],
        [
         "9",
         "12950",
         "23.0",
         "71138.0",
         "Diesel",
         "101.47832167832168",
         "1.0",
         "0",
         "1900",
         "3",
         "1105"
        ],
        [
         "10",
         "20950",
         "25.0",
         "31461.0",
         "Petrol",
         "192.0",
         "0.0",
         "0",
         "1800",
         "3",
         "1185"
        ],
        [
         "11",
         "19950",
         "22.0",
         "43610.0",
         "Petrol",
         "192.0",
         "0.0",
         "0",
         "1800",
         "3",
         "1185"
        ],
        [
         "12",
         "19600",
         "25.0",
         "32189.0",
         "Petrol",
         "192.0",
         "0.0",
         "0",
         "1800",
         "3",
         "1185"
        ],
        [
         "13",
         "21500",
         "31.0",
         "23000.0",
         "Petrol",
         "192.0",
         "1.0",
         "0",
         "1800",
         "3",
         "1185"
        ],
        [
         "14",
         "22500",
         "32.0",
         "34131.0",
         "Petrol",
         "192.0",
         "1.0",
         "0",
         "1800",
         "3",
         "1185"
        ],
        [
         "15",
         "22000",
         "28.0",
         "18739.0",
         "Petrol",
         "101.47832167832168",
         "0.0",
         "0",
         "1800",
         "3",
         "1185"
        ],
        [
         "16",
         "22750",
         "30.0",
         "34000.0",
         "Petrol",
         "192.0",
         "1.0",
         "0",
         "1800",
         "3",
         "1185"
        ],
        [
         "17",
         "17950",
         "24.0",
         "21716.0",
         "Petrol",
         "110.0",
         "1.0",
         "0",
         "1600",
         "3",
         "1105"
        ],
        [
         "18",
         "16750",
         "24.0",
         "25563.0",
         "Petrol",
         "110.0",
         "0.0",
         "0",
         "1600",
         "3",
         "1065"
        ],
        [
         "19",
         "16950",
         "30.0",
         "64359.0",
         "Petrol",
         "110.0",
         "1.0",
         "0",
         "1600",
         "3",
         "1105"
        ],
        [
         "20",
         "15950",
         "30.0",
         "67660.0",
         "Petrol",
         "110.0",
         "1.0",
         "0",
         "1600",
         "3",
         "1105"
        ],
        [
         "21",
         "16950",
         "29.0",
         "43905.0",
         "Petrol",
         "110.0",
         "0.0",
         "1",
         "1600",
         "3",
         "1170"
        ],
        [
         "22",
         "15950",
         "28.0",
         "56349.0",
         "Petrol",
         "110.0",
         "1.0",
         "0",
         "1600",
         "3",
         "1120"
        ],
        [
         "23",
         "16950",
         "28.0",
         "32220.0",
         "Petrol",
         "110.0",
         "1.0",
         "0",
         "1600",
         "3",
         "1120"
        ],
        [
         "24",
         "16250",
         "29.0",
         "25813.0",
         "Petrol",
         "110.0",
         "1.0",
         "0",
         "1600",
         "3",
         "1120"
        ],
        [
         "25",
         "15950",
         "25.0",
         "28450.0",
         "Petrol",
         "110.0",
         "1.0",
         "0",
         "1600",
         "3",
         "1120"
        ],
        [
         "26",
         "17495",
         "27.0",
         "34545.0",
         "Petrol",
         "110.0",
         "1.0",
         "0",
         "1600",
         "3",
         "1120"
        ],
        [
         "27",
         "15750",
         "29.0",
         "41415.0",
         "Petrol",
         "110.0",
         "1.0",
         "0",
         "1600",
         "3",
         "1120"
        ],
        [
         "28",
         "16950",
         "28.0",
         "44142.0",
         "Petrol",
         "110.0",
         "0.0",
         "0",
         "1600",
         "3",
         "1120"
        ],
        [
         "29",
         "17950",
         "30.0",
         "11090.0",
         "Petrol",
         "110.0",
         "1.0",
         "0",
         "1600",
         "3",
         "1120"
        ],
        [
         "30",
         "12950",
         "29.0",
         "9750.0",
         "Petrol",
         "97.0",
         "1.0",
         "0",
         "1400",
         "3",
         "1100"
        ],
        [
         "31",
         "15750",
         "22.0",
         "35199.0",
         "Petrol",
         "97.0",
         "1.0",
         "0",
         "1400",
         "3",
         "1100"
        ],
        [
         "32",
         "15950",
         "27.0",
         "29510.0",
         "Petrol",
         "97.0",
         "1.0",
         "0",
         "1400",
         "3",
         "1100"
        ],
        [
         "33",
         "14950",
         "55.67215568862275",
         "32692.0",
         "Petrol",
         "97.0",
         "1.0",
         "0",
         "1400",
         "3",
         "1100"
        ],
        [
         "34",
         "15500",
         "22.0",
         "41000.0",
         "Petrol",
         "97.0",
         "1.0",
         "0",
         "1400",
         "3",
         "1100"
        ],
        [
         "35",
         "15750",
         "26.0",
         "43000.0",
         "Petrol",
         "97.0",
         "0.0",
         "0",
         "1400",
         "3",
         "1100"
        ],
        [
         "36",
         "15950",
         "25.0",
         "25000.0",
         "Petrol",
         "97.0",
         "0.0",
         "0",
         "1400",
         "3",
         "1100"
        ],
        [
         "37",
         "14950",
         "23.0",
         "10000.0",
         "Petrol",
         "97.0",
         "1.0",
         "0",
         "1400",
         "3",
         "1100"
        ],
        [
         "38",
         "15750",
         "32.0",
         "25329.0",
         "Petrol",
         "97.0",
         "1.0",
         "0",
         "1400",
         "3",
         "1100"
        ],
        [
         "39",
         "14750",
         "27.0",
         "27500.0",
         "Petrol",
         "97.0",
         "0.0",
         "0",
         "1400",
         "3",
         "1100"
        ],
        [
         "40",
         "13950",
         "22.0",
         "49059.0",
         "Petrol",
         "97.0",
         "0.0",
         "0",
         "1400",
         "3",
         "1100"
        ],
        [
         "41",
         "16750",
         "27.0",
         "44068.0",
         "Petrol",
         "97.0",
         "1.0",
         "0",
         "1400",
         "3",
         "1100"
        ],
        [
         "42",
         "13950",
         "22.0",
         "46961.0",
         "Petrol",
         "97.0",
         "0.0",
         "0",
         "1400",
         "3",
         "1100"
        ],
        [
         "43",
         "16950",
         "27.0",
         "110404.0",
         "Diesel",
         "90.0",
         "1.0",
         "0",
         "2000",
         "5",
         "1255"
        ],
        [
         "44",
         "16950",
         "22.0",
         "100250.0",
         "Petrol",
         "90.0",
         "0.0",
         "0",
         "2000",
         "5",
         "1255"
        ],
        [
         "45",
         "19000",
         "23.0",
         "84000.0",
         "Diesel",
         "90.0",
         "1.0",
         "0",
         "2000",
         "5",
         "1270"
        ],
        [
         "46",
         "17950",
         "27.0",
         "79375.0",
         "Diesel",
         "90.0",
         "1.0",
         "0",
         "2000",
         "5",
         "1255"
        ],
        [
         "47",
         "15800",
         "22.0",
         "75048.0",
         "Petrol",
         "97.0",
         "1.0",
         "0",
         "1400",
         "5",
         "1110"
        ],
        [
         "48",
         "17950",
         "22.0",
         "72215.0",
         "Diesel",
         "90.0",
         "1.0",
         "0",
         "2000",
         "5",
         "1255"
        ],
        [
         "49",
         "21950",
         "31.0",
         "64982.0",
         "Petrol",
         "192.0",
         "1.0",
         "0",
         "1800",
         "5",
         "1195"
        ]
       ],
       "shape": {
        "columns": 10,
        "rows": 1436
       }
      },
      "text/html": [
       "<div>\n",
       "<style scoped>\n",
       "    .dataframe tbody tr th:only-of-type {\n",
       "        vertical-align: middle;\n",
       "    }\n",
       "\n",
       "    .dataframe tbody tr th {\n",
       "        vertical-align: top;\n",
       "    }\n",
       "\n",
       "    .dataframe thead th {\n",
       "        text-align: right;\n",
       "    }\n",
       "</style>\n",
       "<table border=\"1\" class=\"dataframe\">\n",
       "  <thead>\n",
       "    <tr style=\"text-align: right;\">\n",
       "      <th></th>\n",
       "      <th>Price</th>\n",
       "      <th>Age</th>\n",
       "      <th>KM</th>\n",
       "      <th>FuelType</th>\n",
       "      <th>HP</th>\n",
       "      <th>MetColor</th>\n",
       "      <th>Automatic</th>\n",
       "      <th>CC</th>\n",
       "      <th>Doors</th>\n",
       "      <th>Weight</th>\n",
       "    </tr>\n",
       "  </thead>\n",
       "  <tbody>\n",
       "    <tr>\n",
       "      <th>0</th>\n",
       "      <td>13500</td>\n",
       "      <td>23.000000</td>\n",
       "      <td>46986.0</td>\n",
       "      <td>Diesel</td>\n",
       "      <td>90.0</td>\n",
       "      <td>1.0</td>\n",
       "      <td>0</td>\n",
       "      <td>2000</td>\n",
       "      <td>three</td>\n",
       "      <td>1165</td>\n",
       "    </tr>\n",
       "    <tr>\n",
       "      <th>1</th>\n",
       "      <td>13750</td>\n",
       "      <td>23.000000</td>\n",
       "      <td>72937.0</td>\n",
       "      <td>Diesel</td>\n",
       "      <td>90.0</td>\n",
       "      <td>1.0</td>\n",
       "      <td>0</td>\n",
       "      <td>2000</td>\n",
       "      <td>3</td>\n",
       "      <td>1165</td>\n",
       "    </tr>\n",
       "    <tr>\n",
       "      <th>2</th>\n",
       "      <td>13950</td>\n",
       "      <td>24.000000</td>\n",
       "      <td>41711.0</td>\n",
       "      <td>Diesel</td>\n",
       "      <td>90.0</td>\n",
       "      <td>1.0</td>\n",
       "      <td>0</td>\n",
       "      <td>2000</td>\n",
       "      <td>3</td>\n",
       "      <td>1165</td>\n",
       "    </tr>\n",
       "    <tr>\n",
       "      <th>3</th>\n",
       "      <td>14950</td>\n",
       "      <td>26.000000</td>\n",
       "      <td>48000.0</td>\n",
       "      <td>Diesel</td>\n",
       "      <td>90.0</td>\n",
       "      <td>0.0</td>\n",
       "      <td>0</td>\n",
       "      <td>2000</td>\n",
       "      <td>3</td>\n",
       "      <td>1165</td>\n",
       "    </tr>\n",
       "    <tr>\n",
       "      <th>4</th>\n",
       "      <td>13750</td>\n",
       "      <td>30.000000</td>\n",
       "      <td>38500.0</td>\n",
       "      <td>Diesel</td>\n",
       "      <td>90.0</td>\n",
       "      <td>0.0</td>\n",
       "      <td>0</td>\n",
       "      <td>2000</td>\n",
       "      <td>3</td>\n",
       "      <td>1170</td>\n",
       "    </tr>\n",
       "    <tr>\n",
       "      <th>...</th>\n",
       "      <td>...</td>\n",
       "      <td>...</td>\n",
       "      <td>...</td>\n",
       "      <td>...</td>\n",
       "      <td>...</td>\n",
       "      <td>...</td>\n",
       "      <td>...</td>\n",
       "      <td>...</td>\n",
       "      <td>...</td>\n",
       "      <td>...</td>\n",
       "    </tr>\n",
       "    <tr>\n",
       "      <th>1431</th>\n",
       "      <td>7500</td>\n",
       "      <td>55.672156</td>\n",
       "      <td>20544.0</td>\n",
       "      <td>Petrol</td>\n",
       "      <td>86.0</td>\n",
       "      <td>1.0</td>\n",
       "      <td>0</td>\n",
       "      <td>1300</td>\n",
       "      <td>3</td>\n",
       "      <td>1025</td>\n",
       "    </tr>\n",
       "    <tr>\n",
       "      <th>1432</th>\n",
       "      <td>10845</td>\n",
       "      <td>72.000000</td>\n",
       "      <td>63634.0</td>\n",
       "      <td>Petrol</td>\n",
       "      <td>86.0</td>\n",
       "      <td>0.0</td>\n",
       "      <td>0</td>\n",
       "      <td>1300</td>\n",
       "      <td>3</td>\n",
       "      <td>1015</td>\n",
       "    </tr>\n",
       "    <tr>\n",
       "      <th>1433</th>\n",
       "      <td>8500</td>\n",
       "      <td>55.672156</td>\n",
       "      <td>17016.0</td>\n",
       "      <td>Petrol</td>\n",
       "      <td>86.0</td>\n",
       "      <td>0.0</td>\n",
       "      <td>0</td>\n",
       "      <td>1300</td>\n",
       "      <td>3</td>\n",
       "      <td>1015</td>\n",
       "    </tr>\n",
       "    <tr>\n",
       "      <th>1434</th>\n",
       "      <td>7250</td>\n",
       "      <td>70.000000</td>\n",
       "      <td>63634.0</td>\n",
       "      <td>Petrol</td>\n",
       "      <td>86.0</td>\n",
       "      <td>1.0</td>\n",
       "      <td>0</td>\n",
       "      <td>1300</td>\n",
       "      <td>3</td>\n",
       "      <td>1015</td>\n",
       "    </tr>\n",
       "    <tr>\n",
       "      <th>1435</th>\n",
       "      <td>6950</td>\n",
       "      <td>76.000000</td>\n",
       "      <td>1.0</td>\n",
       "      <td>Petrol</td>\n",
       "      <td>110.0</td>\n",
       "      <td>0.0</td>\n",
       "      <td>0</td>\n",
       "      <td>1600</td>\n",
       "      <td>5</td>\n",
       "      <td>1114</td>\n",
       "    </tr>\n",
       "  </tbody>\n",
       "</table>\n",
       "<p>1436 rows × 10 columns</p>\n",
       "</div>"
      ],
      "text/plain": [
       "      Price        Age       KM FuelType     HP  MetColor  Automatic    CC  \\\n",
       "0     13500  23.000000  46986.0   Diesel   90.0       1.0          0  2000   \n",
       "1     13750  23.000000  72937.0   Diesel   90.0       1.0          0  2000   \n",
       "2     13950  24.000000  41711.0   Diesel   90.0       1.0          0  2000   \n",
       "3     14950  26.000000  48000.0   Diesel   90.0       0.0          0  2000   \n",
       "4     13750  30.000000  38500.0   Diesel   90.0       0.0          0  2000   \n",
       "...     ...        ...      ...      ...    ...       ...        ...   ...   \n",
       "1431   7500  55.672156  20544.0   Petrol   86.0       1.0          0  1300   \n",
       "1432  10845  72.000000  63634.0   Petrol   86.0       0.0          0  1300   \n",
       "1433   8500  55.672156  17016.0   Petrol   86.0       0.0          0  1300   \n",
       "1434   7250  70.000000  63634.0   Petrol   86.0       1.0          0  1300   \n",
       "1435   6950  76.000000      1.0   Petrol  110.0       0.0          0  1600   \n",
       "\n",
       "      Doors  Weight  \n",
       "0     three    1165  \n",
       "1         3    1165  \n",
       "2         3    1165  \n",
       "3         3    1165  \n",
       "4         3    1170  \n",
       "...     ...     ...  \n",
       "1431      3    1025  \n",
       "1432      3    1015  \n",
       "1433      3    1015  \n",
       "1434      3    1015  \n",
       "1435      5    1114  \n",
       "\n",
       "[1436 rows x 10 columns]"
      ]
     },
     "execution_count": 75,
     "metadata": {},
     "output_type": "execute_result"
    }
   ],
   "source": [
    "df"
   ]
  },
  {
   "cell_type": "code",
   "execution_count": 73,
   "metadata": {},
   "outputs": [
    {
     "data": {
      "image/png": "[encoded data removed]",
      "text/plain": [
       "<Figure size 640x480 with 1 Axes>"
      ]
     },
     "metadata": {},
     "output_type": "display_data"
    }
   ],
   "source": [
    "#Scatterplot\n",
    "\n",
    "plt.scatter(df['Age'],df['Price'], c = 'red')\n",
    "plt.title('Scatterplot of Age vs Price')\n",
    "plt.xlabel('Age(months)')\n",
    "plt.ylabel('Price(Euros)')\n",
    "plt.show()"
   ]
  },
  {
   "cell_type": "code",
   "execution_count": 80,
   "metadata": {},
   "outputs": [
    {
     "data": {
      "image/png": "[encoded data removed]",
      "text/plain": [
       "<Figure size 640x480 with 1 Axes>"
      ]
     },
     "metadata": {},
     "output_type": "display_data"
    }
   ],
   "source": [
    "#historgram\n",
    "plt.hist(df['KM'], bins=5, color='blue', edgecolor='white')\n",
    "plt.title('History of kilometer')\n",
    "plt.xlabel('kilometer')\n",
    "plt.ylabel('Frequency')\n",
    "plt.show()"
   ]
  },
  {
   "cell_type": "code",
   "execution_count": null,
   "metadata": {},
   "outputs": [
    {
     "data": {
      "application/vnd.microsoft.datawrangler.viewer.v0+json": {
       "columns": [
        {
         "name": "FuelType",
         "rawType": "object",
         "type": "string"
        },
        {
         "name": "count",
         "rawType": "int64",
         "type": "integer"
        }
       ],
       "conversionMethod": "pd.DataFrame",
       "ref": "439e84ee-60e7-4f4f-b940-4dd239c6cb89",
       "rows": [
        [
         "CNG",
         "15"
        ],
        [
         "Diesel",
         "144"
        ],
        [
         "Petrol",
         "1277"
        ]
       ],
       "shape": {
        "columns": 1,
        "rows": 3
       }
      },
      "text/html": [
       "<div>\n",
       "<style scoped>\n",
       "    .dataframe tbody tr th:only-of-type {\n",
       "        vertical-align: middle;\n",
       "    }\n",
       "\n",
       "    .dataframe tbody tr th {\n",
       "        vertical-align: top;\n",
       "    }\n",
       "\n",
       "    .dataframe thead th {\n",
       "        text-align: right;\n",
       "    }\n",
       "</style>\n",
       "<table border=\"1\" class=\"dataframe\">\n",
       "  <thead>\n",
       "    <tr style=\"text-align: right;\">\n",
       "      <th>col_0</th>\n",
       "      <th>count</th>\n",
       "    </tr>\n",
       "    <tr>\n",
       "      <th>FuelType</th>\n",
       "      <th></th>\n",
       "    </tr>\n",
       "  </thead>\n",
       "  <tbody>\n",
       "    <tr>\n",
       "      <th>CNG</th>\n",
       "      <td>15</td>\n",
       "    </tr>\n",
       "    <tr>\n",
       "      <th>Diesel</th>\n",
       "      <td>144</td>\n",
       "    </tr>\n",
       "    <tr>\n",
       "      <th>Petrol</th>\n",
       "      <td>1277</td>\n",
       "    </tr>\n",
       "  </tbody>\n",
       "</table>\n",
       "</div>"
      ],
      "text/plain": [
       "col_0     count\n",
       "FuelType       \n",
       "CNG          15\n",
       "Diesel      144\n",
       "Petrol     1277"
      ]
     },
     "execution_count": 86,
     "metadata": {},
     "output_type": "execute_result"
    }
   ],
   "source": [
    "pd.crosstab(index=df['FuelType'], columns='count',dropna=True)"
   ]
  },
  {
   "cell_type": "code",
   "execution_count": 87,
   "metadata": {},
   "outputs": [],
   "source": [
    "counts = [1277, 144, 15]\n",
    "fueltype = ('Petrol', 'Deisel', 'CNG')\n",
    "index = np.arange(len(fueltype))"
   ]
  },
  {
   "cell_type": "code",
   "execution_count": 88,
   "metadata": {},
   "outputs": [
    {
     "data": {
      "image/png": "[encoded data removed]",
      "text/plain": [
       "<Figure size 640x480 with 1 Axes>"
      ]
     },
     "metadata": {},
     "output_type": "display_data"
    }
   ],
   "source": [
    "# barplot\n",
    "plt.bar(index, counts, color=['red', 'green', 'blue'])\n",
    "plt.xlabel('Fuel Type')\n",
    "plt.ylabel('Frequency')\n",
    "plt.xticks(index, fueltype)\n",
    "plt.show()"
   ]
  },
  {
   "cell_type": "code",
   "execution_count": 90,
   "metadata": {},
   "outputs": [
    {
     "data": {
      "text/plain": [
       "<Axes: >"
      ]
     },
     "execution_count": 90,
     "metadata": {},
     "output_type": "execute_result"
    },
    {
     "data": {
      "image/png": "[encoded data removed]",
      "text/plain": [
       "<Figure size 640x480 with 2 Axes>"
      ]
     },
     "metadata": {},
     "output_type": "display_data"
    }
   ],
   "source": [
    "correlation = df.corr(numeric_only=True)\n",
    "sns.heatmap(correlation, xticklabels=correlation.columns, yticklabels=correlation.columns,annot=True)"
   ]
  },
  {
   "cell_type": "markdown",
   "metadata": {},
   "source": [
    "Conclusion:- from this experiment we can handle missing values in dataset and do visualization using matplotlib and seaborn."
   ]
  },
  {
   "cell_type": "markdown",
   "metadata": {},
   "source": [
    "PO:- PO1, PO2, PO3, PO4, PO5"
   ]
  }
 ],
 "metadata": {
  "kernelspec": {
   "display_name": "dm-env",
   "language": "python",
   "name": "python3"
  },
  "language_info": {
   "codemirror_mode": {
    "name": "ipython",
    "version": 3
   },
   "file_extension": ".py",
   "mimetype": "text/x-python",
   "name": "python",
   "nbconvert_exporter": "python",
   "pygments_lexer": "ipython3",
   "version": "3.9.21"
  }
 },
 "nbformat": 4,
 "nbformat_minor": 2
}
